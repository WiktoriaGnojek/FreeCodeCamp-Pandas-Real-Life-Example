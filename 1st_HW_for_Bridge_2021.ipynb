{
  "nbformat": 4,
  "nbformat_minor": 0,
  "metadata": {
    "colab": {
      "name": "1st HW for Bridge 2021",
      "provenance": [],
      "collapsed_sections": [],
      "authorship_tag": "ABX9TyOixzzTtYpu3nn3Ja4UDOCZ",
      "include_colab_link": true
    },
    "kernelspec": {
      "name": "python3",
      "display_name": "Python 3"
    },
    "language_info": {
      "name": "python"
    }
  },
  "cells": [
    {
      "cell_type": "markdown",
      "metadata": {
        "id": "view-in-github",
        "colab_type": "text"
      },
      "source": [
        "<a href=\"https://colab.research.google.com/github/WiktoriaGnojek/FreeCodeCamp-Pandas-Real-Life-Example/blob/master/1st_HW_for_Bridge_2021.ipynb\" target=\"_parent\"><img src=\"https://colab.research.google.com/assets/colab-badge.svg\" alt=\"Open In Colab\"/></a>"
      ]
    },
    {
      "cell_type": "markdown",
      "metadata": {
        "id": "KREq6mCvQJKw"
      },
      "source": [
        "*Doing Math with Python*, 1st Homework - Wiktoria Gnojek \n"
      ]
    },
    {
      "cell_type": "code",
      "metadata": {
        "id": "W47myihlQts3"
      },
      "source": [
        "# Programming Challenge 1 page 22, Even-Odd Vending Machine\n",
        "# First part, print whether even or odd\n",
        "num = int(input(\"Please enter a number: \"))\n",
        "if num % 2 == 0:\n",
        "    print(\"even\")\n",
        "else:\n",
        "    print(\"odd\")\n",
        "# Second part of homework, \n",
        "num = int(input(\"Please re-enter your number: \"))\n",
        "def even_odd(num):\n",
        "  if num % 2 == 0:\n",
        "    print(\"Even\")\n",
        "  else:\n",
        "    print(\"Odd\") \n",
        "for i in range(num,num+20,2):\n",
        "    print(i)\n",
        "  \n"
      ],
      "execution_count": null,
      "outputs": []
    },
    {
      "cell_type": "code",
      "metadata": {
        "id": "GbbiVlaYbm_O"
      },
      "source": [
        "# Chapter 2.  Programming Challenge 2 page 55, Exploring a Quadratic Function Visually\n",
        "\n",
        "x_values = [-5, -4, -3, -2, -1, 0, 1, 2, 3, 4]\n",
        "for x in x_values:\n",
        " # Calculate the value of the quadratic function\n",
        " y = x**2 + 2*x + 1\n",
        " print('x={0} y={1}'.format(x, y))\n",
        "\n",
        "import matplotlib.pyplot as plt \n",
        "x = [-5,-4,-3,-2,-1,0,1,2,3,4]\n",
        "y = [16,9,4,1,0,1,4,9,16,25]\n",
        "plt.plot(x,y)\n",
        "plt.title(\"X and Y Plot\")\n",
        "plt.show()\n"
      ],
      "execution_count": null,
      "outputs": []
    },
    {
      "cell_type": "code",
      "metadata": {
        "id": "34XOByrSCyaH"
      },
      "source": [
        "# Chapter 3.  Programming Challenge 2 page 89, Statistics Calculator\n",
        "\n",
        "from google.colab import files\n",
        "uploaded = files.upload()\n",
        "\n",
        "for fn in uploaded.keys():\n",
        "  print('mydata.txt'.format(\n",
        "      name=fn, length=len(uploaded[fn])))\n",
        "\n",
        "\n",
        "# calculating mean \n",
        "def calculate_mean(uploaded):\n",
        "  s = sum(uploaded)\n",
        "  N = len(uploaded)\n",
        "  mean = s/N\n",
        "\n",
        "  return mean\n",
        "\n",
        "def calculate_median(uploaded):\n",
        "\n",
        "    N = len(uploaded)\n",
        "    uploaded.sort()\n",
        "\n",
        "   \n",
        "    if N % 2 == 0:\n",
        "        m1 = int(N / 2) - 1\n",
        "        m2 = int((N / 2) + 1) - 1\n",
        "        median = (uploaded[m1] + uploaded[m2]) / 2\n",
        "    else:\n",
        "        m = int((N + 1) / 2) - 1\n",
        "        median = uploaded[m]\n",
        "\n",
        "    return median\n",
        "\n",
        "def calculate_mode(uploaded):\n",
        "    c = Counter(uploaded)\n",
        "    uploaded_freq = c.most_common()\n",
        "\n",
        "    max_count = uploaded_freq[0][1]\n",
        "\n",
        "    modes = []\n",
        "    for num in uploadeds_freq:\n",
        "        if num[1] == max_count:\n",
        "            modes.append(num[0])\n",
        "\n",
        "    return modes\n",
        "\n",
        "def find_differences(uploaded):\n",
        "    mean = calculate_mean(uploaded)\n",
        "    diff = []\n",
        "    for num in uploaded:\n",
        "        diff.append(num - mean)\n",
        "\n",
        "    return diff\n",
        "\n",
        "\n",
        "def calculate_variance(uploaded):\n",
        "    diff = find_differences(uploaded)    \n",
        "    squared_diff = []\n",
        "\n",
        "    for d in diff:\n",
        "        squared_diff.append(d**2)\n",
        "    sum_squared_diff = sum(squared_diff)\n",
        "\n",
        "    variance = sum_squared_diff / len(uploaded)\n",
        "\n",
        "    return variance\n",
        "\n",
        "if __name__ == '__main__':\n",
        "    data = read_data('mydata.txt')\n",
        "    mean = calculate_mean(data)\n",
        "    median = calculate_median(data)\n",
        "    mode = calculate_mode(data)\n",
        "    variance = calculate_variance(data)\n",
        "    std_ev = variance**0.5\n",
        "    print('Mean: {0}, Median {1}, Mode {2}'.format(mean, median, mode))\n",
        "    print('Variance: {0}, Standard Deviation: {1}'.format(variance, std_ev))\n"
      ],
      "execution_count": null,
      "outputs": []
    },
    {
      "cell_type": "code",
      "metadata": {
        "id": "LwEOvFjkB__s"
      },
      "source": [
        "# Chapter 4.  Programming Challenge 4 page 117, Solving Single-Variable Inequalities\n",
        "# 1st function - begninning, creating isolve \n",
        "from sympy import Symbol, sympify, SympifyError\n",
        "from sympy import solve_poly_inequality, solve_rational_inequalities\n",
        "from sympy import solve_univariate_inequality, Poly\n",
        "from sympy.core.relational import Relational, Equality\n",
        "\n",
        "def isolve(ineq_obj):\n",
        "    x = Symbol('x')\n",
        "\n",
        "    expr = ineq_obj.lhs\n",
        "    rel = ineq_obj.rel_op\n",
        "  # Poly  \n",
        "    if expr.is_polynomial():\n",
        "        expr = ineq_obj.lhs\n",
        "        p = Poly(expr, x)\n",
        "        return solve_poly_inequality(p, rel)\n",
        "    elif expr.is_rational_function():         # Rational\n",
        "        expr = ineq_obj.lhs\n",
        "        numer, denom = expr.as_numer_denom()\n",
        "        p1 = Poly(numer)\n",
        "        p2 = Poly(denom)\n",
        "        rel = ineq_obj.rel_op\n",
        "        return solve_rational_inequalities([[((p1, p2), rel)]])\n",
        "    else:\n",
        "        return solve_univariate_inequality(ineq_obj , x, relational=False)\n",
        "\n",
        "if __name__ == '__main__':\n",
        "    ineq_obj = input('Enter the inequality to solve: ')\n",
        "    try:\n",
        "        ineq_obj = sympify(ineq_obj)\n",
        "    except SympifyError:\n",
        "        print('Invalid inequality')\n",
        "    else:\n",
        "        if isinstance(ineq_obj, Relational) and not isinstance(ineq_obj, Equality):\n",
        "            print(isolve(ineq_obj))\n",
        "        else:\n",
        "            print('Invalid inequality')\n"
      ],
      "execution_count": null,
      "outputs": []
    },
    {
      "cell_type": "code",
      "metadata": {
        "id": "nV9S2dsDCt3q"
      },
      "source": [
        "# Chapter 5.  Programming Challenge 2 page 143, Law of Large Numbers\n",
        "\n",
        "import random\n",
        "\n",
        "def toss_die(tosses):\n",
        "    sum = 0\n",
        "    for toss in range(tosses):\n",
        "        sum += random.randint(1, 6)\n",
        "    return sum / tosses\n",
        "\n",
        "if __name__ == '__main__':\n",
        "    trials = [100, 1000, 10000, 10000, 100000, 500000]\n",
        "    print('Expected value: 3.5')\n",
        "    for trial in trials:\n",
        "        avg = toss_die(trial)\n",
        "        print('Trials: {0} Trial average {1}'.format(trial, avg))\n",
        "\n",
        "\n"
      ],
      "execution_count": null,
      "outputs": []
    },
    {
      "cell_type": "code",
      "metadata": {
        "id": "B9fMHtV3GIOA"
      },
      "source": [
        "# Chapter 7.  Programming Challenge 2 page 205, Implement the Gradient Descent\n",
        "\n",
        "from sympy import Derivative, Symbol, sympify\n",
        "from sympy.core.sympify import SympifyError\n",
        "#note descent\n",
        "def grad_descent(x0, f1x, x):\n",
        "    epsilon = 1e-6\n",
        "    step_size = 1e-4\n",
        "    x_old = x0\n",
        "    x_new = x_old - step_size * f1x.subs({x: x_old}).evalf()\n",
        "    while abs(x_old - x_new) > epsilon:\n",
        "        x_old = x_new\n",
        "        x_new = x_old - step_size * f1x.subs({x: x_old}).evalf()\n",
        "\n",
        "    return x_new\n",
        "\n",
        "if __name__ == '__main__':\n",
        "    f = input('Enter a function in one variable: ')\n",
        "    var = input('Enter the variable to differentiate with respect to: ')\n",
        "    var0 = float(input('Enter the initial value of the variable: '))\n",
        "    try:\n",
        "        f = sympify(f)\n",
        "    except SympifyError:\n",
        "        print('Invalid function entered')\n",
        "    else:\n",
        "\n",
        "        var = Symbol(var)\n",
        "        d = Derivative(f, var).doit()\n",
        "\n",
        "        var_min = grad_descent(var0, d, var)\n",
        "        print('{0}: {1}'.format(var.name, var_min))\n",
        "        print('Minimum value: {0}'.format(f.subs({var: var_min})))\n"
      ],
      "execution_count": null,
      "outputs": []
    }
  ]
}